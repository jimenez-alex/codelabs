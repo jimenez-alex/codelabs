{
 "cells": [
  {
   "cell_type": "markdown",
   "metadata": {},
   "source": [
    "# [Two Number Sum](https://www.algoexpert.io/questions/two-number-sum)\n",
    "\n",
    "**Difficulty:** Easy\n",
    "\n",
    "**Category:** Arrays\n",
    "\n",
    "Write a function that takes in a non-empty array of distinct integers and an integer representing a target sum. If any two numbers in the input array sum up to the target sum, the function should return them in an array, in any order. If no two numbers sum up to the target sum, the function should return an empty array.\n",
    "\n",
    "Note that the target sum has to be obtained by summing two different integers in the array; you can't add a single integer to itself in order to obtain the target sum.\n",
    "\n",
    "You can assume that there will be at most one pair of numbers summing up to the target sum.\n",
    "\n",
    "\n",
    "## Sample Input\n",
    "```python\n",
    "array = [3, 5, -4, 8, 11, 1, -1, 6]\n",
    "targetSum = 10\n",
    "```\n",
    "\n",
    "## Sample Output\n",
    "```python\n",
    "[-1, 11] // the numbers could be in reverse order\n",
    "```\n",
    "\n",
    "## Optimal Space & Time Complexity\n",
    "`O(n)` time | `O(n)` space - where n is the length of the input array"
   ]
  },
  {
   "cell_type": "markdown",
   "metadata": {},
   "source": [
    "## Hints\n",
    "\n",
    "### Hint 1\n",
    "Try using two for loops to sum all possible pairs of numbers in the input array. What are the time and space implications of this approach?\n",
    "\n",
    "### Hint 2\n",
    "Realize that for every number X in the input array, you are essentially trying to find a corresponding number Y such that X + Y = targetSum. With two variables in this equation known to you, it shouldn't be hard to solve for Y.\n",
    "\n",
    "### Hint 3\n",
    "Try storing every number in a hash table, solving the equation mentioned in Hint #2 for every number, and checking if the Y that you find is stored in the hash table. What are the time and space implications of this approach?"
   ]
  },
  {
   "cell_type": "code",
   "execution_count": 15,
   "metadata": {},
   "outputs": [],
   "source": [
    "#   Solution from Hint 1\n",
    "def twoNumberSum1(array, targetSum):                 # T: O(n^2) | S: O(1)\n",
    "    for i in range(len(array) - 1):\n",
    "        firstNum = array[i]\n",
    "        for j in range(i+1, len(array)):\n",
    "            secondNum = array[j]\n",
    "            if firstNum + secondNum == targetSum:\n",
    "                return [firstNum, secondNum]\n",
    "    return []"
   ]
  },
  {
   "cell_type": "code",
   "execution_count": 16,
   "metadata": {},
   "outputs": [],
   "source": [
    "# Solution from Hint 2 & 3\n",
    "def twoNumberSum2(array, targetSum):                 # T: O(n) | S: O(n)\n",
    "    nums = {}\n",
    "    for num in array:\n",
    "        potentialMatch = targetSum - num\n",
    "        if potentialMatch in nums:\n",
    "            return [potentialMatch, num]\n",
    "        else:\n",
    "            nums[num] = True\n",
    "    return []"
   ]
  },
  {
   "cell_type": "code",
   "execution_count": 17,
   "metadata": {},
   "outputs": [],
   "source": [
    "#   Alternate Solution incorporating all hints\n",
    "def twoNumberSum3(array, targetSum):                 # T: O(nlog(n)) | S: O(1)\n",
    "    array.sort()\n",
    "    left = 0\n",
    "    right = len(array) - 1\n",
    "    while left < right:\n",
    "        currentSum = array[left] + array[right]\n",
    "        if currentSum == targetSum:\n",
    "            return [array[left], array[right]]\n",
    "        elif currentSum < targetSum:\n",
    "            left += 1\n",
    "        elif currentSum > targetSum:\n",
    "            right -= 1\n",
    "    return []"
   ]
  },
  {
   "cell_type": "code",
   "execution_count": 18,
   "metadata": {},
   "outputs": [
    {
     "name": "stderr",
     "output_type": "stream",
     "text": [
      ".\n",
      "----------------------------------------------------------------------\n",
      "Ran 1 test in 0.001s\n",
      "\n",
      "OK\n"
     ]
    },
    {
     "data": {
      "text/plain": [
       "<unittest.main.TestProgram at 0x106bac910>"
      ]
     },
     "execution_count": 18,
     "metadata": {},
     "output_type": "execute_result"
    }
   ],
   "source": [
    "import unittest\n",
    "\n",
    "solutions =  [\n",
    "    twoNumberSum1,\n",
    "    twoNumberSum2,\n",
    "    twoNumberSum3\n",
    "]\n",
    "\n",
    "test_cases = [\n",
    "    [[3, 5, -4, 8, 11, 1, -1, 6], 10, [-1, 11]],\n",
    "    [[4, 6], 10, [4, 6]],\n",
    "    [[4, 6, 1], 5, [1, 4]],\n",
    "    [[4, 6, 1, -3], 3, [-3, 6]],\n",
    "    [[1, 2, 3, 4, 5, 6, 7, 8, 9], 17, [8, 9]],\n",
    "    [[1, 2, 3, 4, 5, 6, 7, 8, 9, 15], 18, [3, 15]],\n",
    "    [[-7, -5, -3, -1, 0, 1, 3, 5, 7], -5, [-5, 0]],\n",
    "    [[-21, 301, 12, 4, 65, 56, 210, 356, 9, -47], 163, [-47, 210]],\n",
    "    [[-21, 301, 12, 4, 65, 56, 210, 356, 9, -47], 164, []],\n",
    "    [[3, 5, -4, 8, 11, 1, -1, 6], 15, []],\n",
    "    [[14], 15, []],\n",
    "    [[15], 15, []]\n",
    "]\n",
    "\n",
    "class TestSolutions(unittest.TestCase):\n",
    "    def test_solutions(self):\n",
    "        for array, targetSum, expected_result in test_cases:\n",
    "            with self.subTest(array=array, targetSum=targetSum):\n",
    "                for solution in solutions:\n",
    "                    self.assertEqual(set(solution(array, targetSum)), set(expected_result))\n",
    "\n",
    "unittest.main(argv=[''], exit=False)"
   ]
  }
 ],
 "metadata": {
  "kernelspec": {
   "display_name": "Python 3",
   "language": "python",
   "name": "python3"
  },
  "language_info": {
   "codemirror_mode": {
    "name": "ipython",
    "version": 3
   },
   "file_extension": ".py",
   "mimetype": "text/x-python",
   "name": "python",
   "nbconvert_exporter": "python",
   "pygments_lexer": "ipython3",
   "version": "3.9.6"
  }
 },
 "nbformat": 4,
 "nbformat_minor": 2
}
