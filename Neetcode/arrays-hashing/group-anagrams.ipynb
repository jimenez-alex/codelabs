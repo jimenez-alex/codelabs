{
 "cells": [
  {
   "cell_type": "markdown",
   "metadata": {},
   "source": [
    "# [49. Group Anagrams](https://leetcode.com/problems/group-anagrams/)\n",
    "\n",
    "Given an array of strings `strs`, group the anagrams together. You can return the answer in any order.\n",
    "\n",
    "An Anagram is a word or phrase formed by rearranging the letters of a different word or phrase, typically using all the original letters exactly once.\n",
    "\n",
    "\n",
    "## Example 1:\n",
    "\n",
    "**Input:** `strs = [\"eat\",\"tea\",\"tan\",\"ate\",\"nat\",\"bat\"]`\n",
    "\n",
    "**Output:** `[[\"bat\"],[\"nat\",\"tan\"],[\"ate\",\"eat\",\"tea\"]]`\n",
    "\n",
    "\n",
    "## Example 2:\n",
    "\n",
    "**Input:** `strs = [\"\"]`\n",
    "\n",
    "**Output:** `[[\"\"]]`\n",
    "\n",
    "\n",
    "## Example 3:\n",
    "\n",
    "**Input:** `strs = [\"a\"]`\n",
    "\n",
    "**Output:** `[[\"a\"]]`\n",
    " \n",
    "\n",
    "## Constraints:\n",
    "- `1 <= strs.length <= 104`\n",
    "- `0 <= strs[i].length <= 100`\n",
    "- `strs[i]` consists of lowercase English letters."
   ]
  },
  {
   "cell_type": "code",
   "execution_count": 1,
   "metadata": {},
   "outputs": [],
   "source": [
    "def groupAnagrams(strs):                # T = O(n * k log k)\n",
    "    \"\"\"\n",
    "    :type strs: List[str]\n",
    "    :rtype: List[List[str]]\n",
    "    \"\"\"\n",
    "    anagrams = {}                       # S = O(n)\n",
    "    for word in strs:                   # T = O(n)\n",
    "        key = ''.join(sorted(word))     # T = O(k log k)\n",
    "        if anagrams.get(key):\n",
    "            anagrams[key].append(word)\n",
    "        else:\n",
    "            anagrams[key] = [word]\n",
    "    return list(anagrams.values())"
   ]
  },
  {
   "cell_type": "code",
   "execution_count": 2,
   "metadata": {},
   "outputs": [
    {
     "name": "stderr",
     "output_type": "stream",
     "text": [
      ".\n",
      "----------------------------------------------------------------------\n",
      "Ran 1 test in 0.001s\n",
      "\n",
      "OK\n"
     ]
    },
    {
     "data": {
      "text/plain": [
       "<unittest.main.TestProgram at 0x1039849a0>"
      ]
     },
     "execution_count": 2,
     "metadata": {},
     "output_type": "execute_result"
    }
   ],
   "source": [
    "import unittest\n",
    "\n",
    "solutions =  [\n",
    "    groupAnagrams\n",
    "]\n",
    "\n",
    "test_cases = [\n",
    "    ([\"eat\", \"tea\", \"tan\", \"ate\", \"nat\", \"bat\"], [['eat', 'tea', 'ate'], ['tan', 'nat'], ['bat']]),\n",
    "    ([\"\"], [[\"\"]]),\n",
    "    ([\"a\"], [[\"a\"]]),\n",
    "]\n",
    "\n",
    "class TestSolutions(unittest.TestCase):\n",
    "    def test_solutions(self):\n",
    "        for strs, expected_result in test_cases:\n",
    "            with self.subTest(strs=strs):\n",
    "                for solution in solutions:\n",
    "                    self.assertEqual(solution(strs), expected_result)\n",
    "\n",
    "unittest.main(argv=[''], exit=False)"
   ]
  },
  {
   "cell_type": "markdown",
   "metadata": {},
   "source": [
    "## Time Complexity:\n",
    "- **Sorting Words:** Sorting each word in the list of strings takes *O(k log k)* time, where *k* is the maximum length of a word in the list.\n",
    "- **Iterating through the List:** The function iterates through each word in the list once.\n",
    "- **Dictionary Operations:** For each word, the function performs operations like dictionary lookup and append, which typically take *O(1)* time on average.\n",
    "\n",
    "The dominant operation here is sorting each word, which occurs for each word in the input list. Therefore, the overall time complexity is *O(n * k log k)*, where *n* is the number of words in the input list and *k* is the maximum length of a word.\n",
    "\n",
    "## Space Complexity:\n",
    "- **Dictionary:** The function uses a dictionary to store the anagrams. In the worst case, all words are unique, so the dictionary would store all words. Therefore, the space complexity for the dictionary is *O(n)*.\n",
    "- **Output List:** The function returns a list containing the grouped anagrams. This list also contributes to the space complexity.\n",
    "- **Temporary Variables:** Temporary variables like `key` also consume space, but their impact is negligible compared to the dictionary and output list.\n",
    "\n",
    "Therefore, the overall space complexity is *O(n)*, where *n* is the number of words in the input list."
   ]
  },
  {
   "cell_type": "code",
   "execution_count": 5,
   "metadata": {
    "vscode": {
     "languageId": "html"
    }
   },
   "outputs": [
    {
     "data": {
      "text/html": [
       "<iframe width=\"560\" height=\"315\" src=\"https://www.youtube.com/embed/9UtInBqnCgA?si=H3AeYfYCeVGCVwgk\" title=\"YouTube video player\" frameborder=\"0\" allow=\"accelerometer; autoplay; clipboard-write; encrypted-media; gyroscope; picture-in-picture; web-share\" referrerpolicy=\"strict-origin-when-cross-origin\" allowfullscreen></iframe>\n"
      ],
      "text/plain": [
       "<IPython.core.display.HTML object>"
      ]
     },
     "metadata": {},
     "output_type": "display_data"
    }
   ],
   "source": [
    "%%HTML\n",
    "<iframe width=\"560\" height=\"315\" src=\"https://www.youtube.com/embed/9UtInBqnCgA?si=H3AeYfYCeVGCVwgk\" title=\"YouTube video player\" frameborder=\"0\" allow=\"accelerometer; autoplay; clipboard-write; encrypted-media; gyroscope; picture-in-picture; web-share\" referrerpolicy=\"strict-origin-when-cross-origin\" allowfullscreen></iframe>"
   ]
  }
 ],
 "metadata": {
  "kernelspec": {
   "display_name": "Python 3",
   "language": "python",
   "name": "python3"
  },
  "language_info": {
   "codemirror_mode": {
    "name": "ipython",
    "version": 3
   },
   "file_extension": ".py",
   "mimetype": "text/x-python",
   "name": "python",
   "nbconvert_exporter": "python",
   "pygments_lexer": "ipython3",
   "version": "3.9.6"
  }
 },
 "nbformat": 4,
 "nbformat_minor": 2
}
